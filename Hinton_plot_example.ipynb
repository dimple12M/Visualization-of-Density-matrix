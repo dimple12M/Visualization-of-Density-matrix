{
 "cells": [
  {
   "cell_type": "markdown",
   "id": "368f97c6",
   "metadata": {},
   "source": [
    "## HINTON PLOT EXAMPLE\n",
    "\n",
    "REFERNCE:\n",
    "   1.  https://qiskit.org/documentation/stubs/qiskit.visualization.plot_state_hinton.html\n",
    "    \n",
    "   2.  https://qiskit.org/textbook/ch-quantum-hardware/density-matrix.html#properties"
   ]
  },
  {
   "cell_type": "code",
   "execution_count": 1,
   "id": "bea393ac",
   "metadata": {},
   "outputs": [],
   "source": [
    "from qiskit import QuantumCircuit\n",
    "from qiskit.quantum_info import DensityMatrix\n",
    "from qiskit.visualization import plot_state_hinton\n",
    "\n"
   ]
  },
  {
   "cell_type": "markdown",
   "id": "ae33ce66",
   "metadata": {},
   "source": [
    "### Example 1"
   ]
  },
  {
   "cell_type": "code",
   "execution_count": 2,
   "id": "e5b95d88",
   "metadata": {},
   "outputs": [],
   "source": [
    "\n",
    "qc = QuantumCircuit(2)\n",
    "qc.h(0)\n",
    "qc.cx(0, 1)\n",
    "\n",
    "state = DensityMatrix.from_instruction(qc)\n"
   ]
  },
  {
   "cell_type": "code",
   "execution_count": 3,
   "id": "d7ecf8f8",
   "metadata": {},
   "outputs": [
    {
     "name": "stdout",
     "output_type": "stream",
     "text": [
      "DensityMatrix([[0.5+0.j, 0. +0.j, 0. +0.j, 0.5+0.j],\n",
      "               [0. +0.j, 0. +0.j, 0. +0.j, 0. +0.j],\n",
      "               [0. +0.j, 0. +0.j, 0. +0.j, 0. +0.j],\n",
      "               [0.5+0.j, 0. +0.j, 0. +0.j, 0.5+0.j]],\n",
      "              dims=(2, 2))\n"
     ]
    }
   ],
   "source": [
    "state"
   ]
  },
  {
   "cell_type": "code",
   "execution_count": 4,
   "id": "b896e7ee",
   "metadata": {},
   "outputs": [
    {
     "data": {
      "text/latex": [
       "$$\n",
       "\\rho = \n",
       "\\begin{bmatrix}\n",
       "\\tfrac{1}{2} & 0 & 0 & \\tfrac{1}{2}  \\\\\n",
       " 0 & 0 & 0 & 0  \\\\\n",
       " 0 & 0 & 0 & 0  \\\\\n",
       " \\tfrac{1}{2} & 0 & 0 & \\tfrac{1}{2}  \\\\\n",
       " \\end{bmatrix}\n",
       "$$"
      ],
      "text/plain": [
       "<IPython.core.display.Latex object>"
      ]
     },
     "execution_count": 4,
     "metadata": {},
     "output_type": "execute_result"
    }
   ],
   "source": [
    "\n",
    "state.draw('latex', prefix='\\\\rho = ')"
   ]
  },
  {
   "cell_type": "markdown",
   "id": "aa715740",
   "metadata": {},
   "source": [
    "### If we want to understand what does the elements of the density matrix represents?\n",
    "\n",
    "Refer to the section \"Matrix elements\" in https://qiskit.org/textbook/ch-quantum-hardware/density-matrix.html#properties"
   ]
  },
  {
   "cell_type": "markdown",
   "id": "75a49cac",
   "metadata": {},
   "source": [
    "# Plot a hinton diagram for the density matrix of a quantum state."
   ]
  },
  {
   "cell_type": "code",
   "execution_count": 5,
   "id": "b6cd2669",
   "metadata": {},
   "outputs": [
    {
     "data": {
      "image/png": "[encoded data removed]",
      "text/plain": [
       "<Figure size 576x360 with 2 Axes>"
      ]
     },
     "execution_count": 5,
     "metadata": {},
     "output_type": "execute_result"
    }
   ],
   "source": [
    "plot_state_hinton(state, title=\"New Hinton Plot\")"
   ]
  },
  {
   "cell_type": "markdown",
   "id": "a5299a01",
   "metadata": {},
   "source": [
    "### Example 2\n",
    "Let's take more examples to plot on the real and imaginary axis of the hinton plot"
   ]
  },
  {
   "cell_type": "code",
   "execution_count": 6,
   "id": "4756ae32",
   "metadata": {},
   "outputs": [],
   "source": [
    "qc = QuantumCircuit(2)\n",
    "qc.h(0)\n",
    "qc.y(1)\n",
    "\n",
    "state = DensityMatrix.from_instruction(qc)"
   ]
  },
  {
   "cell_type": "code",
   "execution_count": 7,
   "id": "155aec5e",
   "metadata": {},
   "outputs": [
    {
     "name": "stdout",
     "output_type": "stream",
     "text": [
      "DensityMatrix([[0. +0.j, 0. +0.j, 0. +0.j, 0. +0.j],\n",
      "               [0. +0.j, 0. +0.j, 0. +0.j, 0. +0.j],\n",
      "               [0. +0.j, 0. +0.j, 0.5+0.j, 0.5+0.j],\n",
      "               [0. +0.j, 0. +0.j, 0.5+0.j, 0.5+0.j]],\n",
      "              dims=(2, 2))\n"
     ]
    }
   ],
   "source": [
    "state"
   ]
  },
  {
   "cell_type": "code",
   "execution_count": 8,
   "id": "a1203db5",
   "metadata": {},
   "outputs": [
    {
     "data": {
      "text/latex": [
       "$$\n",
       "\\rho = \n",
       "\\begin{bmatrix}\n",
       "0 & 0 & 0 & 0  \\\\\n",
       " 0 & 0 & 0 & 0  \\\\\n",
       " 0 & 0 & \\tfrac{1}{2} & \\tfrac{1}{2}  \\\\\n",
       " 0 & 0 & \\tfrac{1}{2} & \\tfrac{1}{2}  \\\\\n",
       " \\end{bmatrix}\n",
       "$$"
      ],
      "text/plain": [
       "<IPython.core.display.Latex object>"
      ]
     },
     "execution_count": 8,
     "metadata": {},
     "output_type": "execute_result"
    }
   ],
   "source": [
    "state.draw('latex', prefix='\\\\rho = ')"
   ]
  },
  {
   "cell_type": "code",
   "execution_count": 9,
   "id": "2c314f7d",
   "metadata": {},
   "outputs": [
    {
     "data": {
      "image/png": "[encoded data removed]",
      "text/plain": [
       "<Figure size 576x360 with 2 Axes>"
      ]
     },
     "execution_count": 9,
     "metadata": {},
     "output_type": "execute_result"
    }
   ],
   "source": [
    "plot_state_hinton(state, title=\"New Hinton Plot\")"
   ]
  },
  {
   "cell_type": "markdown",
   "id": "6bb29c83",
   "metadata": {},
   "source": [
    "### Example 3"
   ]
  },
  {
   "cell_type": "code",
   "execution_count": 10,
   "id": "05e7774b",
   "metadata": {},
   "outputs": [],
   "source": [
    "qc = QuantumCircuit(2)\n",
    "qc.h(0)\n",
    "qc.y(1)\n",
    "qc.h(1)\n",
    "\n",
    "state = DensityMatrix.from_instruction(qc)"
   ]
  },
  {
   "cell_type": "code",
   "execution_count": 11,
   "id": "b205b5e7",
   "metadata": {},
   "outputs": [
    {
     "name": "stdout",
     "output_type": "stream",
     "text": [
      "DensityMatrix([[ 0.25+0.j,  0.25+0.j, -0.25+0.j, -0.25+0.j],\n",
      "               [ 0.25+0.j,  0.25+0.j, -0.25+0.j, -0.25+0.j],\n",
      "               [-0.25+0.j, -0.25+0.j,  0.25+0.j,  0.25+0.j],\n",
      "               [-0.25+0.j, -0.25+0.j,  0.25+0.j,  0.25+0.j]],\n",
      "              dims=(2, 2))\n"
     ]
    }
   ],
   "source": [
    "state"
   ]
  },
  {
   "cell_type": "code",
   "execution_count": 12,
   "id": "c842de01",
   "metadata": {},
   "outputs": [
    {
     "data": {
      "image/png": "[encoded data removed]",
      "text/plain": [
       "<Figure size 576x360 with 2 Axes>"
      ]
     },
     "execution_count": 12,
     "metadata": {},
     "output_type": "execute_result"
    }
   ],
   "source": [
    "plot_state_hinton(state, title=\"New Hinton Plot\")"
   ]
  },
  {
   "cell_type": "markdown",
   "id": "12a1be33",
   "metadata": {},
   "source": [
    "### Example 4 : In this example , look for the imaginary axis"
   ]
  },
  {
   "cell_type": "code",
   "execution_count": 13,
   "id": "65c4e416",
   "metadata": {},
   "outputs": [],
   "source": [
    "qc = QuantumCircuit(2)\n",
    "qc.h(0)\n",
    "\n",
    "qc.cy(0,1)\n",
    "\n",
    "state = DensityMatrix.from_instruction(qc)"
   ]
  },
  {
   "cell_type": "code",
   "execution_count": 14,
   "id": "b1b07c22",
   "metadata": {},
   "outputs": [
    {
     "name": "stdout",
     "output_type": "stream",
     "text": [
      "DensityMatrix([[0.5+0.j , 0. +0.j , 0. +0.j , 0. -0.5j],\n",
      "               [0. +0.j , 0. +0.j , 0. +0.j , 0. +0.j ],\n",
      "               [0. +0.j , 0. +0.j , 0. +0.j , 0. +0.j ],\n",
      "               [0. +0.5j, 0. +0.j , 0. +0.j , 0.5+0.j ]],\n",
      "              dims=(2, 2))\n"
     ]
    }
   ],
   "source": [
    "state"
   ]
  },
  {
   "cell_type": "code",
   "execution_count": 15,
   "id": "1c8837ba",
   "metadata": {},
   "outputs": [
    {
     "data": {
      "text/latex": [
       "$$\n",
       "\\rho = \n",
       "\\begin{bmatrix}\n",
       "\\tfrac{1}{2} & 0 & 0 & -\\tfrac{1}{2}i  \\\\\n",
       " 0 & 0 & 0 & 0  \\\\\n",
       " 0 & 0 & 0 & 0  \\\\\n",
       " \\tfrac{1}{2}i & 0 & 0 & \\tfrac{1}{2}  \\\\\n",
       " \\end{bmatrix}\n",
       "$$"
      ],
      "text/plain": [
       "<IPython.core.display.Latex object>"
      ]
     },
     "execution_count": 15,
     "metadata": {},
     "output_type": "execute_result"
    }
   ],
   "source": [
    "state.draw('latex', prefix='\\\\rho = ')"
   ]
  },
  {
   "cell_type": "code",
   "execution_count": 16,
   "id": "fcd40f08",
   "metadata": {},
   "outputs": [
    {
     "data": {
      "image/png": "[encoded data removed]",
      "text/plain": [
       "<Figure size 576x360 with 2 Axes>"
      ]
     },
     "execution_count": 16,
     "metadata": {},
     "output_type": "execute_result"
    }
   ],
   "source": [
    "plot_state_hinton(state, title=\"New Hinton Plot\")"
   ]
  },
  {
   "cell_type": "code",
   "execution_count": null,
   "id": "02e4e290",
   "metadata": {},
   "outputs": [],
   "source": []
  }
 ],
 "metadata": {
  "kernelspec": {
   "display_name": "Python 3",
   "language": "python",
   "name": "python3"
  },
  "language_info": {
   "codemirror_mode": {
    "name": "ipython",
    "version": 3
   },
   "file_extension": ".py",
   "mimetype": "text/x-python",
   "name": "python",
   "nbconvert_exporter": "python",
   "pygments_lexer": "ipython3",
   "version": "3.7.9"
  }
 },
 "nbformat": 4,
 "nbformat_minor": 5
}
